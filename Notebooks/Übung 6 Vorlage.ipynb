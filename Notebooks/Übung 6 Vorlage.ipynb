{
 "cells": [
  {
   "cell_type": "markdown",
   "id": "abroad-institute",
   "metadata": {},
   "source": [
    "# Block 7 Übung 6: Visualisierung & Geovisualisierung von RKI-Grippedaten"
   ]
  },
  {
   "cell_type": "markdown",
   "id": "streaming-johnston",
   "metadata": {},
   "source": [
    "## Bibliotheken & Konfiguration"
   ]
  },
  {
   "cell_type": "code",
   "execution_count": null,
   "id": "refined-calendar",
   "metadata": {},
   "outputs": [],
   "source": [
    "packages <- c(\"readr\", \"dplyr\", \"tidyr\", \"lubridate\", \"ggplot2\", \"sf\", \"leaflet\")\n",
    "install.packages(setdiff(packages, rownames(installed.packages())))\n",
    "lapply(packages, require, character.only = TRUE)\n",
    "\n",
    "base_url <- \"https://raw.githubusercontent.com/ganslats/TMF-School-2021-Block-7/master/Rohdaten/\""
   ]
  },
  {
   "cell_type": "markdown",
   "id": "sorted-wedding",
   "metadata": {},
   "source": [
    "## RKI-Grippedaten einlesen\n",
    "\n",
    "Quelle: Robert Koch-Institut: SurvStat@RKI 2.0, https://survstat.rki.de, Abfragedatum: 28.06.2021\n",
    "\n",
    "Filterkriterien:\n",
    "* Erkrankung: Influenza\n",
    "* Zeitraum: unbeschränkt\n",
    "* Ausgabe: Fallzahl vs. Meldejahr & Kreis\n",
    "\n",
    "Nachbearbeitung:\n",
    "* Pivotierung des Wide-Formats (Landkreise = Spalten) in ein besser handhabbares Long-Format"
   ]
  },
  {
   "cell_type": "code",
   "execution_count": null,
   "id": "excellent-frank",
   "metadata": {
    "scrolled": true
   },
   "outputs": [],
   "source": [
    "# RKI-Grippedaten einlesen\n",
    "rki.grippe.long <- read_delim(paste(base_url, \"%C3%9Cbung/rki_grippe_long.csv\", sep=\"\"), delim = \";\",\n",
    "                                 col_types = cols(meldejahr = col_integer(), kreis_name = col_character(), fallzahl_influenza = col_double()))\n",
    "head(rki.grippe.long)"
   ]
  },
  {
   "cell_type": "markdown",
   "id": "cfbb1c9c",
   "metadata": {},
   "source": [
    "## Aufgabe: Visualisieren Sie den Verlauf der Grippe-Infektionen über die Zeit insgesamt, sowie innerhalb einzelner Landkreise!"
   ]
  },
  {
   "cell_type": "markdown",
   "id": "e2a3427e",
   "metadata": {},
   "source": [
    "### Verlauf Gesamtfallzahl"
   ]
  },
  {
   "cell_type": "code",
   "execution_count": null,
   "id": "dcc8ce1a",
   "metadata": {},
   "outputs": [],
   "source": []
  },
  {
   "cell_type": "markdown",
   "id": "0858da85",
   "metadata": {},
   "source": [
    "### Verlauf einzelne Stadt-/Landkreise\n",
    "\n",
    "Hinweise:\n",
    "* Wählen Sie im zweiten Schritt Kreise aus, die unterschiedliche Bevölkerung haben (Großstadt vs. kleinere Stadt)\n",
    "* Suchen sie hierzu mit der `grepl()`-Funktion nach entsprechenden Kreis-Namen"
   ]
  },
  {
   "cell_type": "code",
   "execution_count": null,
   "id": "dbcb80ba",
   "metadata": {},
   "outputs": [],
   "source": []
  },
  {
   "cell_type": "markdown",
   "id": "90a04b8c",
   "metadata": {},
   "source": [
    "### Einschätzung: sind die Daten der verschiedenen Kreise ohne weiteres miteinander vergleichbar?\n",
    "\n",
    "* der RKI-Datensatz enthält absolute Fallzahlen"
   ]
  },
  {
   "cell_type": "markdown",
   "id": "a4a28e1e",
   "metadata": {},
   "source": [
    "## Bezugsgröße (Bevölkerung/Kreis) herunterladen\n",
    "\n",
    "Quelle: Statistisches Bundesamt [Tabelle 12411-0015](https://www-genesis.destatis.de/genesis//online?operation=table&code=12411-0015&bypass=true&levelindex=1&levelid=1624946140391) (Bevölkerung: Kreise, Stichtag)\n",
    "\n",
    "* Download im Flatfile-Format, keine Nachbearbeitung"
   ]
  },
  {
   "cell_type": "code",
   "execution_count": null,
   "id": "9355e7b7",
   "metadata": {},
   "outputs": [],
   "source": [
    "destatis.bevoelkerung.raw <- read_delim(paste(base_url, \"%C3%9Cbung/12411-0015_flat.csv\", sep=\"\"), delim = \";\", \n",
    "                                        col_types = cols(Statistik_Code = col_integer(), Statistik_Label = col_character(), Zeit_Code = col_character(), Zeit_Label = col_character(), Zeit = col_date(format = \"%d.%m.%Y\"), `1_Merkmal_Code` = col_character(), `1_Merkmal_Label` = col_character(), `1_Auspraegung_Code` = col_character(), `1_Auspraegung_Label` = col_character(), BEVSTD__Bevoelkerungsstand__Anzahl = col_character()),\n",
    "                                        locale = locale(encoding = \"UTF8\"))\n",
    "\n",
    "# Nachbearbeitung: fehlende Werte sind mit \"-\" angegeben, was gegen NA ausgetauscht werden muss\n",
    "destatis.bevoelkerung.raw$BEVSTD__Bevoelkerungsstand__Anzahl[which(destatis.bevoelkerung.raw$BEVSTD__Bevoelkerungsstand__Anzahl == \"-\")] <- NA\n",
    "\n",
    "# Jetzt kann die Spalte zu einer Zahl umgewandelt werden, da sie keine nichtnumerischen Zeichen mehr enthält\n",
    "destatis.bevoelkerung.raw$BEVSTD__Bevoelkerungsstand__Anzahl <- as.integer(destatis.bevoelkerung.raw$BEVSTD__Bevoelkerungsstand__Anzahl)\n",
    "\n",
    "# Relevante Spalten selektieren & mit besser handhabbaren Namen versehen\n",
    "destatis.bevoelkerung.nice <- destatis.bevoelkerung.raw %>% \n",
    "    mutate(jahr = as.integer(year(Zeit)), ags_kreis_id = `1_Auspraegung_Code`, ags_kreis_name = `1_Auspraegung_Label`, bevoelkerung = BEVSTD__Bevoelkerungsstand__Anzahl) %>%\n",
    "    select(jahr, ags_kreis_id, ags_kreis_name, bevoelkerung)\n",
    "\n",
    "head(destatis.bevoelkerung.nice)"
   ]
  },
  {
   "cell_type": "markdown",
   "id": "19047574",
   "metadata": {},
   "source": [
    "## Aufgabe: Prüfen Sie, ob ein Join zwischen den Landkreisen im Grippedatensatz des RKI und den Bevölkerungsdaten des Statistischen Bundesamts hergestellt werden kann!\n",
    "\n",
    "Vorgehensweise:\n",
    "* sichten sie die Spalten in den beiden Datensätzen: gibt es Spalten, die gemeinsam/identisch sein könnten?\n",
    "* prüfen Sie möglicherweise nutzbare Spalten ggf. über einen Left Join der RKI- mit den Bevölkerungsdaten - gibt es für alle Zeilen eine Abbildung, oder bleiben Datensätze mit NA (Not Available) in den Spalten der Bevölkerungs-Tabelle?\n",
    "* falls keine passende Spalte verfügbar ist: welche Spalte in den Bevölkerungsdaten könnte am besten genutzt werden, wenn sie in der RKI-Tabelle vorhanden wäre?"
   ]
  },
  {
   "cell_type": "code",
   "execution_count": null,
   "id": "55dfcad9",
   "metadata": {},
   "outputs": [],
   "source": []
  },
  {
   "cell_type": "markdown",
   "id": "ebc7e41e",
   "metadata": {},
   "source": [
    "## Das Missing Link: Mappingtabelle zwischen den vom RKI verwendeten Stadt-/Landkreisnamen und den offiziellen IDs aus dem amtlichen Gemeindeschlüssel (AGS)\n",
    "\n",
    "Auf Github wird unter https://github.com/noz-mhn-data/RKI-merge eine CSV-Datei mit einem Mapping zwischen den vom RKI verwendeten Stadt-/Landkreisen auf AGS-Schlüssel angeboten, diese wurde allerdings seit 2019 nicht mehr aktualisiert.\n",
    "\n",
    "Ein Fork mit einer aktualisierten Version für den Kurs befindet sich unter https://github.com/ganslats/RKI-merge"
   ]
  },
  {
   "cell_type": "code",
   "execution_count": null,
   "id": "65dbfcdb",
   "metadata": {},
   "outputs": [],
   "source": [
    "rki.kreise.map <- read_delim(\"https://raw.githubusercontent.com/ganslats/RKI-merge/master/Merging_Tabelle.CSV\", delim = \";\", skip = 1, \n",
    "                             col_names = c(\"kreis_name\", \"kreis_id\"),\n",
    "                             col_types = cols(kreis_name = col_character(), kreis_id = col_character()))\n",
    "head(rki.kreise.map)"
   ]
  },
  {
   "cell_type": "markdown",
   "id": "c0e5e7df",
   "metadata": {},
   "source": [
    "## Aufgabe: Ergänzen Sie die Kreis-IDs aus dem Mapping in den Grippe-Daten des RKI! "
   ]
  },
  {
   "cell_type": "code",
   "execution_count": null,
   "id": "ead7b65f",
   "metadata": {},
   "outputs": [],
   "source": []
  },
  {
   "cell_type": "markdown",
   "id": "6ce74714",
   "metadata": {},
   "source": [
    "## Aufgabe: Berechnen Sie die Inzidenz pro 100.000 Einwohner & plotten Sie die gleichen Stadt/Landkreise wie oben!\n",
    "\n",
    "Hinweise:\n",
    "* führen Sie hierzu die RKI-Daten per Join mit den Bevölkerungsdaten zusammen und ergänzen eine berechnete Spalte mit der `mutate()`-Funktion"
   ]
  },
  {
   "cell_type": "code",
   "execution_count": null,
   "id": "0afe3f4b",
   "metadata": {},
   "outputs": [],
   "source": []
  },
  {
   "cell_type": "markdown",
   "id": "dated-chess",
   "metadata": {},
   "source": [
    "## Vorbereitung Geovisualisierung: Umrisse der Landkreise einlesen\n",
    "\n",
    "**Wichtiger Hinweis:** Wenn Sie an dieser Stelle eine Fehlermeldung erhalten, müssen Sie die ersten beiden Zeilen einkommentieren (# entfernen) und einmalig ausführen, um die Rohdaten von https://gadm.org/ herunterzuladen. Anschließend können die Zeilen wieder auskommentiert werden. Quellenangaben und Hintergrundinfos siehe [teil-6-demo-02-visualisieren-geo.ipynb](https://github.com/ganslats/TMF-School-2021-Block-7/blob/main/Notebooks/teil-6-demo-02-visualisieren-geo.ipynb)\n",
    "\n",
    "Hinweis: es kann in Binder hier eine Fehlermeldung über eine fehlende Bibliothek \"geojsonio\" geben, die an dieser Stelle aber ignoriert werden kann."
   ]
  },
  {
   "cell_type": "code",
   "execution_count": null,
   "id": "reported-experience",
   "metadata": {},
   "outputs": [],
   "source": [
    "# Shapes der Verwaltungsbezirke von https://gadm.org/ herunterladen & extrahieren, sofern sie nicht schon vorliegen\n",
    "if (!file.exists(\"gadm36_DEU.gpkg\")) {\n",
    "    download.file(\"https://biogeo.ucdavis.edu/data/gadm3.6/gpkg/gadm36_DEU_gpkg.zip\", \"gadm36_DEU_gpkg.zip\")\n",
    "    unzip(\"gadm36_DEU_gpkg.zip\", \"gadm36_DEU.gpkg\", junkpaths = TRUE)\n",
    "}\n",
    "\n",
    "# Shapes der Land-/Stadtkreise laden\n",
    "shapes.landkreise <- st_read(\"gadm36_DEU.gpkg\", layer=\"gadm36_DEU_2\")\n",
    "head(shapes.landkreise)"
   ]
  },
  {
   "cell_type": "markdown",
   "id": "347a8e5f",
   "metadata": {},
   "source": [
    "## Aufgabe: Führen Sie die Influenza-Daten mit den Umrissdaten zusammen und erstellen Sie eine Geovisualisierung mit Leaflet oder ggmap!\n",
    "\n",
    "Hier können Sie das Wissen aus dem Abschnitt 4, Demo 2 (Daten abfragen mit Tidyverse) und dem Abschnitt 6, Demo 2 (Geovisualisierung) anwenden.\n",
    "\n",
    "* zugehörige Notebooks: [teil-4-demo-02-abfragen-tidyverse.ipynb](https://github.com/ganslats/TMF-School-2021-Block-7/blob/main/Notebooks/teil-4-demo-02-abfragen-tidyverse.ipynb), [teil-6-demo-02-visualisieren-geo.ipynb](https://github.com/ganslats/TMF-School-2021-Block-7/blob/main/Notebooks/teil-6-demo-02-visualisieren-geo.ipynb)\n",
    "\n",
    "Hinweise:\n",
    "* die Kennzahlen aus der oben berechneten Tabelle `influenza.inzidenz` müssen per left_join in das Tibble mit den Umrissen übernommen werden, da sonst Landkreise ohne Fälle verschwinden würden\n",
    "* da die Tabelle Daten mehrerer Jahre enthält, müssen sie zuvor auf ein von Ihnen ausgewähltes Jahr gefiltert werden (z.B. Grippewelle 2019), da die Werte der verschiedenen Jahre sonst \"übereinander\" geplottet werden würden"
   ]
  },
  {
   "cell_type": "markdown",
   "id": "cd160de9",
   "metadata": {},
   "source": [
    "### Inzidenzen eines Bezugsjahrs auswählen und den Umrissdaten hinzufügen"
   ]
  },
  {
   "cell_type": "code",
   "execution_count": null,
   "id": "7050c707",
   "metadata": {},
   "outputs": [],
   "source": []
  },
  {
   "cell_type": "markdown",
   "id": "0d70df65",
   "metadata": {},
   "source": [
    "### Leaflet-Karte mit den Inzidenzen anzeigen"
   ]
  },
  {
   "cell_type": "code",
   "execution_count": null,
   "id": "5f899fa3",
   "metadata": {},
   "outputs": [],
   "source": []
  }
 ],
 "metadata": {
  "kernelspec": {
   "display_name": "R",
   "language": "R",
   "name": "ir"
  },
  "language_info": {
   "codemirror_mode": "r",
   "file_extension": ".r",
   "mimetype": "text/x-r-source",
   "name": "R",
   "pygments_lexer": "r",
   "version": "4.0.5"
  }
 },
 "nbformat": 4,
 "nbformat_minor": 5
}
