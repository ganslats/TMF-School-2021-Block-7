{
 "cells": [
  {
   "cell_type": "markdown",
   "id": "wanted-camcorder",
   "metadata": {},
   "source": [
    "# Teil 6 Demo 2: Geovisualisierung\n",
    "\n",
    "*Hinweis:* Dieser Teil der Demo funktioniert leider nicht unter Google Colab, da Leaflet dort nicht dargestellt wird. Sie kann stattdessen auf einem lokal installierten Jupyter Notebook ausgeführt werden."
   ]
  },
  {
   "cell_type": "markdown",
   "id": "parental-federal",
   "metadata": {},
   "source": [
    "## Bibliotheken & Konfiguration"
   ]
  },
  {
   "cell_type": "code",
   "execution_count": null,
   "id": "commercial-florence",
   "metadata": {},
   "outputs": [],
   "source": [
    "# Mit der folgenden Zeile können in Google Colab bei Bedarf Systembibliotheken installiert werden, die für das \"sf\"-Package notwendig sind\n",
    "#system('sudo apt-get install -y libudunits2-dev libgdal-dev libgeos-dev libproj-dev', intern=TRUE)\n",
    "\n",
    "packages <- c(\"readr\", \"dplyr\", \"tidyr\", \"leaflet\", \"tidygeocoder\", \"sf\", \"ggmap\")\n",
    "install.packages(setdiff(packages, rownames(installed.packages())))\n",
    "lapply(packages, require, character.only = TRUE)\n",
    "\n",
    "base_url <- \"https://raw.githubusercontent.com/ganslats/TMF-School-2021-Block-7/master/Rohdaten/covid/\""
   ]
  },
  {
   "cell_type": "markdown",
   "id": "experimental-quantity",
   "metadata": {},
   "source": [
    "## Basiskarte mit Leaflet anzeigen\n",
    "\n",
    "Hierzu wird der Mittelpunkt der Karte und die Zoomstufe festgelegt und ein Hintergrund (\"Tiles\") hinzugefügt. Defaultmäßig werden die Tiles von OpenStreetMap genutzt."
   ]
  },
  {
   "cell_type": "code",
   "execution_count": null,
   "id": "operating-gross",
   "metadata": {},
   "outputs": [],
   "source": [
    "leafletmap <- leaflet() %>%\n",
    "    setView(10.217850, 51.151509, zoom=5) %>%\n",
    "    addTiles()\n",
    "leafletmap"
   ]
  },
  {
   "cell_type": "markdown",
   "id": "eleven-integrity",
   "metadata": {},
   "source": [
    "### Hintergrund ändern\n",
    "\n",
    "Es gibt eine Vielzahl von Anbietern & Varianten der Hintergrundkarten (Tiles)\n",
    "* hier gibt es eine Übersicht aller verfügbaren Anbieter & Varianten: http://leaflet-extras.github.io/leaflet-providers/preview/index.html\n",
    "* mit der Funktion \"names(providers)\" des Leaflet-Package können alle verfügbaren Anbieter/Varianten als Liste angezeigt werden\n",
    "\n",
    "Um die Hintergrundkarte vorzugeben, wird *addTiles()* ersetzt durch *addProviderTiles(providers$ANBIETER.VARIANTE)*:"
   ]
  },
  {
   "cell_type": "code",
   "execution_count": null,
   "id": "yellow-houston",
   "metadata": {
    "scrolled": false
   },
   "outputs": [],
   "source": [
    "leafletmap <- leaflet() %>%\n",
    "    setView(13.3897338, 52.518763, zoom=15) %>%\n",
    "    addProviderTiles(providers$Stamen.Watercolor)\n",
    "leafletmap"
   ]
  },
  {
   "cell_type": "markdown",
   "id": "correct-dating",
   "metadata": {},
   "source": [
    "## Marker auf die Karte setzen\n",
    "\n",
    "### Einzelnen Marker platzieren\n",
    "\n",
    "Mit der Funktion *addMarkers(LÄNGE, BREITE, label=\"Bezeichner\", popup=\"Popuptext\")* kann ein einzelner Marker auf der Karte platziert werden:"
   ]
  },
  {
   "cell_type": "markdown",
   "id": "least-princess",
   "metadata": {},
   "source": [
    "#### Einzelne Adresse geocodieren\n",
    "\n",
    "Mit dem R-Package \"tidygeocoder\" kann eine Geocodierung über den freien Nominatim-Service von OpenStreetMap durchgeführt werden.\n",
    "\n",
    "Zu beachten:\n",
    "* der öffentliche Nominatim-Server ist nicht für die Geocodierung großer Mengen von Adressen vorgesehen; Usage Policy beachten (https://operations.osmfoundation.org/policies/nominatim/)\n",
    "* unbedingt Datenschutzaspekte beachten: personenbeziehbare Adressen niemals über fremde Server geocodieren!\n",
    "* Nominatim kann relativ leicht (z.B. Docker-basiert) lokal installiert werden. Zu beachten: die Kartendaten sind umfangreich und führen zu sehr langen Ladezeiten beim Aufsetzen des Servers (daher kleinstmögliche geografische Region auswählen, z.B. nur Deutschland)"
   ]
  },
  {
   "cell_type": "code",
   "execution_count": null,
   "id": "serial-review",
   "metadata": {},
   "outputs": [],
   "source": [
    "# Geocodierung über den Nominatim-Service von OpenStreetMap (method=\"osm\") aufrufen & Ergebnis anzeigen\n",
    "geo(address = \"Charlottenstr 42, Berlin, Deutschland\", method = \"osm\")\n",
    "\n",
    "# Ergebnis manuell als Marker in Karte platzieren\n",
    "leafletmap <- leaflet() %>%\n",
    "    setView(13.39033, 52.5186, zoom=15) %>%\n",
    "    addTiles() %>%\n",
    "    addMarkers(13.39033, 52.5186, label=\"TMF\", popup=\"TMF\")\n",
    "leafletmap"
   ]
  },
  {
   "cell_type": "markdown",
   "id": "harmful-netscape",
   "metadata": {},
   "source": [
    "### Mehrere Marker aus Datensatz platzieren\n",
    "\n",
    "Marker werden üblicherweise gebündelt über Tibbles auf der Karte platziert.\n",
    "Hierzu muss in der *AddMarkers*-Funktion eine Datenquelle angegeben werden, und die einzelnen Attribute werden aus Spalten des Tibbles befüllt, statt sie explizit anzugeben:"
   ]
  },
  {
   "cell_type": "code",
   "execution_count": null,
   "id": "limiting-manufacturer",
   "metadata": {},
   "outputs": [],
   "source": [
    "# Accesspoints des öffentlichen WLANs aus dem Mannheimer Open Data-Portal einlesen\n",
    "mannheim.wifi.raw <- read_csv2(\"https://mannheim.opendatasoft.com/explore/dataset/standorte-wlan-mit-geocode/download/?format=csv&timezone=Europe/Berlin&lang=de&use_labels_for_header=true&csv_separator=%3B\",\n",
    "                               col_types = cols(Strasse = col_character(), `Haus Nr.` = col_number(), Postleitzahl = col_double(), Ort = col_character(), Land = col_character(), Bundesland = col_character(), Adresse = col_character(), Geocode = col_character(), Einrichtung = col_character(), Anmerkungen = col_character()))\n",
    "\n",
    "# Länge/Breite aus kombiniertem Feld splitten\n",
    "mannheim.wifi.raw <- mannheim.wifi.raw %>% separate(col = Geocode, into = c(\"lat\", \"lon\"), sep=\",\", convert = TRUE)\n",
    "\n",
    "leafletmap <- leaflet(mannheim.wifi.raw) %>%\n",
    "    setView(8.4772773, 49.4850955, zoom=13) %>%\n",
    "    addTiles() %>%\n",
    "    addMarkers(data = mannheim.wifi.raw, \n",
    "               ~lon, \n",
    "               ~lat,\n",
    "               label = ~Adresse)\n",
    "leafletmap"
   ]
  },
  {
   "cell_type": "markdown",
   "id": "lasting-inventory",
   "metadata": {},
   "source": [
    "### Marker clustern, um die Übersichtlichkeit zu erhöhen\n",
    "\n",
    "Bei vielen Markern kann es gerade in herausgezoomter Ansicht sehr unübersichtlich werden. Durch Clustering werden nahe beieinanderliegende Marker zusammengefasst, wobei die Farbe des Clusters von der Zahl der enthaltenen Marker abhängt (heatmap-artig). Beim Heranzoomen werden die Cluster verkleinert oder wieder zu Einzelmarkern aufgelöst.\n",
    "\n",
    "Zum Clustern muss innerhalb der *AddMarkers*-Funktion die Option *clusterOptions = markerClusterOptions()* ergänzt werden:"
   ]
  },
  {
   "cell_type": "code",
   "execution_count": null,
   "id": "diverse-stanley",
   "metadata": {},
   "outputs": [],
   "source": [
    "leafletmap <- leaflet(mannheim.wifi.raw) %>%\n",
    "    setView(8.4772773, 49.4850955, zoom=13) %>%\n",
    "    addTiles() %>%\n",
    "    addMarkers(data = mannheim.wifi.raw, \n",
    "               ~lon, \n",
    "               ~lat,\n",
    "               label = ~Adresse,\n",
    "               clusterOptions = markerClusterOptions())\n",
    "leafletmap"
   ]
  },
  {
   "cell_type": "markdown",
   "id": "saved-heritage",
   "metadata": {},
   "source": [
    "## Regionen mit Choroplethen darstellen\n",
    "\n",
    "### Shapes für die administrativen Regionen in Deutschland laden\n",
    "\n",
    "Shape liegen in verschiedenen Formaten vor, die alle von Leaflet verarbeitet werden können:\n",
    "* Shapefiles (.shp): älteres Format, besteht aus ZIPfile mit mehreren Dateien für die Polygone und begleitende Informationen\n",
    "* Geopackages: einfaches Datenbankformat (auf Basis von SQLite), das sowohl die Polyogone als auch begleitende Informationen in einer Datei enthält\n",
    "* GeoJSON: strukturiertes Format (JavaScript Object Notation), das Polygone & begleitende Informationen in einer Datei enthält\n",
    "\n",
    "Die Geodaten für die Übung werden von https://gadm.org/ als Geopackages bezogen, wo sowohl Shapefiles als auch Geopackages heruntergeladen werden können. Die Lizenz erlaubt keine Redistribution, so dass die Datei im Kurs direkt von dort geladen wird. Hierzu die ersten beiden Zeilen der folgenden Zelle aktivieren, für spätere Läufe können sie wieder auskommentiert werden, da die Datei dann bereits lokal vorliegt."
   ]
  },
  {
   "cell_type": "code",
   "execution_count": null,
   "id": "stable-subsection",
   "metadata": {},
   "outputs": [],
   "source": [
    "# Shapes der Verwaltungsbezirke von https://gadm.org/ herunterladen & extrahieren, sofern sie nicht schon vorliegen\n",
    "if (!file.exists(\"gadm36_DEU.gpkg\")) {\n",
    "    download.file(\"https://biogeo.ucdavis.edu/data/gadm3.6/gpkg/gadm36_DEU_gpkg.zip\", \"gadm36_DEU_gpkg.zip\")\n",
    "    unzip(\"gadm36_DEU_gpkg.zip\", \"gadm36_DEU.gpkg\", junkpaths = TRUE)\n",
    "}\n",
    "\n",
    "# Shapes der Land-/Stadtkreise laden\n",
    "shapes.landkreise <- st_read(\"gadm36_DEU.gpkg\", layer=\"gadm36_DEU_2\")\n",
    "\n",
    "# Polygone ausgeben (ohne Hintergrundkarte)\n",
    "leaflet(data = shapes.landkreise) %>% \n",
    "    addPolygons(color = \"black\", \n",
    "                weight = 0.5, \n",
    "                opacity = 1, \n",
    "                label = ~NAME_2)"
   ]
  },
  {
   "cell_type": "markdown",
   "id": "signed-fence",
   "metadata": {},
   "source": [
    "### Rohdaten für die Visualisierung: Covid19-Inzidenzen (pro 100.000 Bevölkerung) über alle Land-/Stadtkreise in Deutschland einlesen\n",
    "\n",
    "Quellen: \n",
    "* COVID-19 Datenhub des RKI beim Bundesamt für Kartographie und Geodäsie (https://npgeo-corona-npgeo-de.hub.arcgis.com/datasets/dd4580c810204019a7b8eb3e0b329dd6_0). Die Daten sind die „Fallzahlen in Deutschland“ des Robert Koch-Institut (RKI) und stehen unter der Open Data Datenlizenz Deutschland – Namensnennung – Version 2.0 zur Verfügung. (https://www.govdata.de/dl-de/by-2-0) Quellenvermerk: Robert Koch-Institut (RKI), dl-de/by-2-0\n",
    "* Amtliches Gemeindeverzeichnis des Statistischen Bundesamts (https://www.destatis.de/DE/Themen/Laender-Regionen/Regionales/Gemeindeverzeichnis/Administrativ/04-kreise.html)\n",
    "\n",
    "Aufbereitung für den Kurs: Auswahl relevanter Spalten, Aggregation von Teilmeldungen pro Tag auf Kreise, manuelles Mapping der Kreisbezeichner zwischen den Teildatensätzen, Berechnung der Fallzahl pro 100.000 Bevölkerung"
   ]
  },
  {
   "cell_type": "code",
   "execution_count": null,
   "id": "involved-ready",
   "metadata": {},
   "outputs": [],
   "source": [
    "# Inzidenzdaten für die Kreise in Gesamtdeutschland laden\n",
    "germany.incidence.raw <- read_csv2(paste(base_url, \"covid_germany_incidence.csv\", sep=\"\"),\n",
    "                                   col_types = cols(kreis_id = col_character(), kreis_name = col_character(), fallzahl = col_double(), fallzahl_pro_100k = col_double()))\n",
    "head(germany.incidence.raw)\n",
    "\n",
    "# Inzidenzen mit den Shapes der Kreise zusammenführen & Label für die Anzeige ergänzen\n",
    "germany.incidence.map <- shapes.landkreise %>% left_join(germany.incidence.raw, by = c(\"CC_2\" = \"kreis_id\"))\n",
    "germany.incidence.map$label <- paste0(germany.incidence.map$kreis_name, \": \", sprintf(\"%0.2f\", germany.incidence.map$fallzahl_pro_100k), \"/100.000 (\", germany.incidence.map$fallzahl, \" Fälle)\")\n"
   ]
  },
  {
   "cell_type": "markdown",
   "id": "bigger-writer",
   "metadata": {},
   "source": [
    "## Geovisualisierung der Fallzahl/100.000 mit Leaflet\n",
    "\n",
    "Hierzu wird zunächst mit der funktion *colorBin()* eine Farbpalette generiert und mit *addPolygons()* ein Choropletzen-Layer mit der Fallzahl und der generierten Palette dargestellt. Mit *addLegend()* wird eine Legende ergänzt."
   ]
  },
  {
   "cell_type": "code",
   "execution_count": null,
   "id": "superb-tours",
   "metadata": {
    "scrolled": false
   },
   "outputs": [],
   "source": [
    "# Palette für die Darstellung der Inzedenzen berechnen\n",
    "pal <- colorBin(\n",
    "  palette = \"Spectral\",\n",
    "  domain = germany.incidence.map$fallzahl_pro_100k,\n",
    "  reverse = TRUE\n",
    ")\n",
    "\n",
    "# Karte ausgeben\n",
    "leaflet(data = germany.incidence.map) %>% \n",
    "    addTiles() %>%\n",
    "    addPolygons(color = \"black\", \n",
    "                weight = 0.5, \n",
    "                opacity = 1, \n",
    "                fillColor = ~pal(fallzahl_pro_100k), \n",
    "                fillOpacity = 0.5,\n",
    "                label = ~label) %>%\n",
    "    addLegend(pal = pal, values = ~fallzahl_pro_100k, title = \"Fallzahl/100.000\",\n",
    "              position = \"bottomright\")"
   ]
  },
  {
   "cell_type": "markdown",
   "id": "liable-princess",
   "metadata": {},
   "source": [
    "# Geovisualisierung mit ggmap\n",
    "\n",
    "Im folgenden Teil der Demo werden die gleichen Schritte mit ggmap als statische Karten wiederholt. Dieser Teil funktioniert auch auf Google Colab.\n",
    "\n",
    "## Basiskarte mit ggmap darstellen\n",
    "\n",
    "Basiskarten können bei ggmap mit den *get_ANBIETERmap()*-Funktionen geladen werden. Es gibt allerdings mehrere Einschränkungen:\n",
    "* die Funktion zum Laden von OpenStreetMap-Hintergrundkarten ist seit längerem deaktiviert, da sie auf ein dafür seitens OSM nicht vorgesehenes API zugreift und dort gesperrt wurde; es ist nicht erkennbar, dass an einer Lösung gearbeitet wird\n",
    "* die Funktion zum Laden von GoogleMaps-Basiskarten erfordert die vorherige Anlage eines API-Keys bei Google; es gibt ein Rate-Limit und Maximalzahlen von Karten-(Tiles), die kostenfrei abgerufen werden können"
   ]
  },
  {
   "cell_type": "code",
   "execution_count": null,
   "id": "variable-budapest",
   "metadata": {},
   "outputs": [],
   "source": [
    "#boundingbox <- c(-0.14185925, 51.5108615, -0.13114775, 51.5168285)\n",
    "boundingbox <- c(4.3451573, 47.2942196, 15.5267352, 54.776929)\n",
    "map.germany <- get_stamenmap(bbox = boundingbox, maptype=\"terrain\", crop=TRUE, zoom = 7)\n",
    "options(repr.plot.width = 5, repr.plot.height = 5)\n",
    "ggmap(map.germany)"
   ]
  },
  {
   "cell_type": "markdown",
   "id": "burning-recording",
   "metadata": {},
   "source": [
    "## Manuellen Marker auf der Karte eintragen\n",
    "\n",
    "Marker und Texte können mit den normalen geoms aus ggplot2 ergänzt werden. Koordinaten können dabei sowohl einzeln explizit als auch über Spalten eines Tibble angegeben werden."
   ]
  },
  {
   "cell_type": "code",
   "execution_count": null,
   "id": "dramatic-rhythm",
   "metadata": {},
   "outputs": [],
   "source": [
    "ggmap(map.germany) +\n",
    "    geom_point(aes(x=13.39033, y=52.5186)) +\n",
    "    geom_text(aes(x=13.39033, y=52.786, label=\"TMF\"))"
   ]
  },
  {
   "cell_type": "markdown",
   "id": "catholic-meditation",
   "metadata": {},
   "source": [
    "## Marker aus Datensatz einfügen"
   ]
  },
  {
   "cell_type": "code",
   "execution_count": null,
   "id": "native-lindsay",
   "metadata": {},
   "outputs": [],
   "source": [
    "# Boundingbox aus Datensatz generieren\n",
    "boundingbox <- make_bbox(data = mannheim.wifi.raw, lon = lon, lat = lat, f = 0.05)\n",
    "map.mannheim <- get_stamenmap(bbox = boundingbox, maptype=\"watercolor\", crop=TRUE, zoom = 13)\n",
    "options(repr.plot.width = 5, repr.plot.height = 5)\n",
    "ggmap(map.mannheim) +\n",
    "    geom_point(data = mannheim.wifi.raw, aes(x=lon, y=lat))"
   ]
  },
  {
   "cell_type": "markdown",
   "id": "auburn-monday",
   "metadata": {},
   "source": [
    "## Regionen mit Choroplethen in ggmap darstellen"
   ]
  },
  {
   "cell_type": "code",
   "execution_count": null,
   "id": "completed-doubt",
   "metadata": {},
   "outputs": [],
   "source": [
    "ggplot() +\n",
    "    geom_sf(data = germany.incidence.map, aes(fill=fallzahl_pro_100k), size=0.001) +\n",
    "    scale_fill_distiller(palette=\"Spectral\", name=\"Fallzahl pro 100.000\", na.value='#bbbbbb')\n"
   ]
  }
 ],
 "metadata": {
  "kernelspec": {
   "display_name": "R",
   "language": "R",
   "name": "ir"
  },
  "language_info": {
   "codemirror_mode": "r",
   "file_extension": ".r",
   "mimetype": "text/x-r-source",
   "name": "R",
   "pygments_lexer": "r",
   "version": "4.0.5"
  }
 },
 "nbformat": 4,
 "nbformat_minor": 5
}
